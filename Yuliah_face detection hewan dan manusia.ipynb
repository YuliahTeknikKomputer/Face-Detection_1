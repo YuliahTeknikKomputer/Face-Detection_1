{
 "cells": [
  {
   "cell_type": "code",
   "execution_count": 82,
   "id": "be89661d-c21f-459c-8544-ed120bad4c20",
   "metadata": {},
   "outputs": [],
   "source": [
    "#Yuliah\n",
    "import PIL.Image\n",
    "import PIL.ImageDraw\n",
    "import face_recognition"
   ]
  },
  {
   "cell_type": "code",
   "execution_count": 83,
   "id": "7ae59a41-3290-4799-ac61-e3e5dc63f456",
   "metadata": {},
   "outputs": [],
   "source": [
    "given_image = face_recognition.load_image_file('orang dan hewan.jpg')"
   ]
  },
  {
   "cell_type": "code",
   "execution_count": 84,
   "id": "5c755cf9-35ec-48e8-a8ce-fd33dbaee2a0",
   "metadata": {},
   "outputs": [
    {
     "name": "stdout",
     "output_type": "stream",
     "text": [
      "We found 2 face(s) in this image.\n"
     ]
    }
   ],
   "source": [
    "face_locations = face_recognition.face_locations(given_image)\n",
    "number_of_faces = len(face_locations)\n",
    "print(\"We found {} face(s) in this image.\".format(number_of_faces))"
   ]
  },
  {
   "cell_type": "code",
   "execution_count": 85,
   "id": "0225359f-36e7-458b-abc1-1466454fb5aa",
   "metadata": {},
   "outputs": [],
   "source": [
    "pil_image = PIL.Image.fromarray(given_image)"
   ]
  },
  {
   "cell_type": "code",
   "execution_count": 86,
   "id": "c5a88593-3533-4c0a-874d-15099417ab69",
   "metadata": {},
   "outputs": [
    {
     "name": "stdout",
     "output_type": "stream",
     "text": [
      "A face is detected at pixel location Top: 104, Left: 282, Bottom: 211, Right: 175\n",
      "A face is detected at pixel location Top: 152, Left: 175, Bottom: 259, Right: 67\n"
     ]
    }
   ],
   "source": [
    "for face_location in face_locations:\n",
    "    top, left, bottom, right = face_location\n",
    "    print(\"A face is detected at pixel location Top: {}, Left: {}, Bottom: {}, Right: {}\".format(top, left, bottom, right))\n",
    "    draw = PIL.ImageDraw.Draw(pil_image)\n",
    "    draw.rectangle([left, top, right, bottom], outline=\"blue\", width=5)"
   ]
  },
  {
   "cell_type": "code",
   "execution_count": 87,
   "id": "afbf03c7-98c4-412a-9a76-9606a6943637",
   "metadata": {},
   "outputs": [],
   "source": [
    "pil_image.show()"
   ]
  },
  {
   "cell_type": "code",
   "execution_count": null,
   "id": "c489cf1c-058e-47ae-a4cc-9846e2875ae6",
   "metadata": {},
   "outputs": [],
   "source": []
  },
  {
   "cell_type": "code",
   "execution_count": null,
   "id": "d5a8eba7-1cf0-49e6-9d62-bebd14108c9c",
   "metadata": {},
   "outputs": [],
   "source": []
  }
 ],
 "metadata": {
  "kernelspec": {
   "display_name": "Python 3 (ipykernel)",
   "language": "python",
   "name": "python3"
  },
  "language_info": {
   "codemirror_mode": {
    "name": "ipython",
    "version": 3
   },
   "file_extension": ".py",
   "mimetype": "text/x-python",
   "name": "python",
   "nbconvert_exporter": "python",
   "pygments_lexer": "ipython3",
   "version": "3.10.4"
  }
 },
 "nbformat": 4,
 "nbformat_minor": 5
}
